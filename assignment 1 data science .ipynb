{
 "cells": [
  {
   "cell_type": "markdown",
   "id": "deae692f",
   "metadata": {},
   "source": [
    "### multiply two matrices"
   ]
  },
  {
   "cell_type": "code",
   "execution_count": 14,
   "id": "0487c719",
   "metadata": {},
   "outputs": [
    {
     "name": "stdout",
     "output_type": "stream",
     "text": [
      "[[130, 180, 96, 31], [94, 122, 118, 19], [143, 187, 166, 29], [143, 187, 166, 29]]\n"
     ]
    }
   ],
   "source": [
    "\n",
    "x = [[12,7,3,4],\n",
    "    [4 ,5,6,5],\n",
    "    [7 ,8,9,6],\n",
    "    [7 ,8,9,6]]\n",
    "\n",
    "y = [[5,8,1,2],\n",
    "    [6,7,3,0],\n",
    "    [4,5,9,1],\n",
    "    [4,5,9,1]]\n",
    "\n",
    "result = [[0,0,0,0],\n",
    "         [0,0,0,0],\n",
    "         [0,0,0,0],\n",
    "         [0,0,0,0]]\n",
    "\n",
    "for i in range(len(x)):\n",
    "    for j in range (len(y[0])):\n",
    "        for k in range(len(y)):\n",
    "            result[i][j] +=x[i][k]*y[k][j]\n",
    "print(result)\n"
   ]
  },
  {
   "cell_type": "code",
   "execution_count": 9,
   "id": "1f012c11",
   "metadata": {},
   "outputs": [
    {
     "name": "stdout",
     "output_type": "stream",
     "text": [
      "[130, 180, 96, 31]\n",
      "[94, 122, 118, 19]\n",
      "[143, 187, 166, 29]\n",
      "[143, 187, 166, 29]\n"
     ]
    }
   ],
   "source": [
    "\n",
    "x = [[12,7,3,4],\n",
    "    [4 ,5,6,5],\n",
    "    [7 ,8,9,6],\n",
    "    [7 ,8,9,6]]\n",
    "\n",
    "y = [[5,8,1,2],\n",
    "    [6,7,3,0],\n",
    "    [4,5,9,1],\n",
    "    [4,5,9,1]]\n",
    "\n",
    "result = [[0,0,0,0],\n",
    "         [0,0,0,0],\n",
    "         [0,0,0,0],\n",
    "         [0,0,0,0]]\n",
    "\n",
    "for i in range(len(x)):\n",
    "    for j in range (len(y[0])):\n",
    "        for k in range(len(y)):\n",
    "            result[i][j] +=x[i][k]*y[k][j]\n",
    "\n",
    "            \n",
    "#use for separate eash list alone \n",
    "for r in result:\n",
    "    print(r)\n",
    "            \n"
   ]
  },
  {
   "cell_type": "code",
   "execution_count": null,
   "id": "edb1c7e7",
   "metadata": {},
   "outputs": [],
   "source": []
  }
 ],
 "metadata": {
  "kernelspec": {
   "display_name": "Python 3 (ipykernel)",
   "language": "python",
   "name": "python3"
  },
  "language_info": {
   "codemirror_mode": {
    "name": "ipython",
    "version": 3
   },
   "file_extension": ".py",
   "mimetype": "text/x-python",
   "name": "python",
   "nbconvert_exporter": "python",
   "pygments_lexer": "ipython3",
   "version": "3.9.13"
  }
 },
 "nbformat": 4,
 "nbformat_minor": 5
}
