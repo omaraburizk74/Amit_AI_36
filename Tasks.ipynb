{
 "cells": [
  {
   "cell_type": "markdown",
   "id": "566b12c9",
   "metadata": {},
   "source": [
    "# Task 1"
   ]
  },
  {
   "cell_type": "code",
   "execution_count": 6,
   "id": "3c40b009",
   "metadata": {},
   "outputs": [],
   "source": [
    "def Graviational():\n",
    "    G =6.67*(10**-11)\n",
    "    M =6.0*(10**24)\n",
    "    m =7.34*(10**22)\n",
    "    r =3.84*(10**8)\n",
    "    \n",
    "    return (G*M*m)/r**2\n",
    "    "
   ]
  },
  {
   "cell_type": "code",
   "execution_count": 7,
   "id": "6ca6c2ef",
   "metadata": {},
   "outputs": [
    {
     "data": {
      "text/plain": [
       "1.9920979817708333e+20"
      ]
     },
     "execution_count": 7,
     "metadata": {},
     "output_type": "execute_result"
    }
   ],
   "source": [
    "Graviational()"
   ]
  },
  {
   "cell_type": "markdown",
   "id": "48d92f2e",
   "metadata": {},
   "source": [
    "# --------------------------------------"
   ]
  },
  {
   "cell_type": "markdown",
   "id": "4dbabc75",
   "metadata": {},
   "source": [
    "# Task 2"
   ]
  },
  {
   "cell_type": "code",
   "execution_count": 9,
   "id": "2595eb4f",
   "metadata": {},
   "outputs": [
    {
     "name": "stdout",
     "output_type": "stream",
     "text": [
      "Enter word if you search: aaa\n",
      "are you crazy this word not found \n"
     ]
    }
   ],
   "source": [
    "dataset = [\"apple\", \"banana\", \"tomato\", \"orange\", \"cherry\", \"carrot\"]\n",
    "user_input=str(input(\"Enter word if you search: \"))\n",
    "\n",
    "if user_input in dataset:\n",
    "    print(\"yup man it's found\")\n",
    "else:\n",
    "    print(\"are you crazy this word not found \")\n"
   ]
  },
  {
   "cell_type": "markdown",
   "id": "cd98eb1e",
   "metadata": {},
   "source": [
    "#  Task 3"
   ]
  },
  {
   "cell_type": "markdown",
   "id": "4b9746d4",
   "metadata": {},
   "source": [
    "#### Python Program for Binary Search"
   ]
  },
  {
   "cell_type": "code",
   "execution_count": null,
   "id": "83f551b2",
   "metadata": {},
   "outputs": [],
   "source": [
    "self study in this link man \n",
    "\n",
    "https://www.geeksforgeeks.org/python-program-for-binary-search/ \n"
   ]
  },
  {
   "cell_type": "code",
   "execution_count": null,
   "id": "a41e36e0",
   "metadata": {},
   "outputs": [],
   "source": []
  },
  {
   "cell_type": "markdown",
   "id": "cdc83a24",
   "metadata": {},
   "source": [
    "#  Task 4"
   ]
  },
  {
   "cell_type": "code",
   "execution_count": 2,
   "id": "161eb1ff",
   "metadata": {},
   "outputs": [
    {
     "name": "stdout",
     "output_type": "stream",
     "text": [
      "Hey Man Enter First Number : 1\n",
      "Hey Man Enter second Number : 2\n"
     ]
    },
    {
     "data": {
      "text/plain": [
       "3"
      ]
     },
     "execution_count": 2,
     "metadata": {},
     "output_type": "execute_result"
    }
   ],
   "source": [
    "num1=int(input(\"Hey Man Enter First Number : \"))\n",
    "num2=int(input(\"Hey Man Enter second Number : \"))\n",
    "def add():\n",
    "    return num1+num2\n",
    "add()"
   ]
  },
  {
   "cell_type": "markdown",
   "id": "905afa27",
   "metadata": {},
   "source": [
    "### Calculator - without oop"
   ]
  },
  {
   "cell_type": "code",
   "execution_count": 6,
   "id": "8fbc797b",
   "metadata": {},
   "outputs": [
    {
     "name": "stdout",
     "output_type": "stream",
     "text": [
      "Hey Man Enter First Number : 3\n",
      "Hey Man Enter second Number : 4\n",
      "Please select operation -\n",
      "1. Add\n",
      "2. Subtract\n",
      "3. Multiply\n",
      "4. Divide\n",
      "\n",
      "Select operations form 1, 2, 3, 4 :  3\n",
      "12\n"
     ]
    }
   ],
   "source": [
    "num1=int(input(\"Hey Man Enter First Number : \"))\n",
    "num2=int(input(\"Hey Man Enter second Number : \"))\n",
    "\n",
    "def add():\n",
    "    return num1+num2\n",
    "def multiply():\n",
    "    return num1*num2\n",
    "def subtract():\n",
    "    return num1-num2\n",
    "def divide():\n",
    "    return num1/num2\n",
    "\n",
    "print(\"Please select operation -\\n\" \\\n",
    "        \"1. Add\\n\" \\\n",
    "        \"2. Subtract\\n\" \\\n",
    "        \"3. Multiply\\n\" \\\n",
    "        \"4. Divide\\n\")\n",
    "choose=int(input(\"Select operations form 1, 2, 3, 4 :  \"))\n",
    "\n",
    "if choose==1:\n",
    "    print(add())\n",
    "elif  choose==2:\n",
    "    print(subtract())\n",
    "elif  choose==3:\n",
    "    print(multiply())\n",
    "elif  choose==4:\n",
    "    print(divide())\n",
    "else:\n",
    "    print(\"Invalid input\")"
   ]
  },
  {
   "cell_type": "markdown",
   "id": "36be252f",
   "metadata": {},
   "source": [
    "### Calculator - using oop"
   ]
  },
  {
   "cell_type": "code",
   "execution_count": 1,
   "id": "428376f9",
   "metadata": {},
   "outputs": [
    {
     "name": "stdout",
     "output_type": "stream",
     "text": [
      "1: Add\n",
      "2: Subtract\n",
      "3: Multiply\n",
      "4: Divide\n",
      "5: Exit\n",
      "Select operation: 1\n",
      "Enter first number: 10\n",
      "Enter second number: 20\n",
      "30\n"
     ]
    }
   ],
   "source": [
    "class Calculator:\n",
    "    def add(self):\n",
    "        return a+b\n",
    "    \n",
    "    def subtract(self):\n",
    "        return a-b\n",
    "        \n",
    "    def multiply(self):\n",
    "        return a*b\n",
    "\n",
    "    def divide(self):\n",
    "        return a/b\n",
    "\n",
    "\n",
    "my_cl = Calculator()\n",
    "\n",
    "\n",
    "while True:\n",
    "\n",
    "    print(\"1: Add\")\n",
    "    print(\"2: Subtract\")\n",
    "    print(\"3: Multiply\")\n",
    "    print(\"4: Divide\")\n",
    "    print(\"5: Exit\")\n",
    "    \n",
    "    ch = int(input(\"Select operation: \"))\n",
    "    \n",
    "    #Make sure the user have entered the valid choice\n",
    "    if ch in (1, 2, 3, 4, 5):\n",
    "        \n",
    "        #first check whether user want to exit\n",
    "        if(ch == 5):\n",
    "            break\n",
    "        \n",
    "        #If not then ask fo the input and call appropiate methods        \n",
    "        a = int(input(\"Hey Man Enter First Number : \"))\n",
    "        b = int(input(\"Hey Man Enter second Number : \"))\n",
    "        \n",
    "        if(ch == 1):\n",
    "            print(my_cl.add())\n",
    "            break;\n",
    "        elif(ch == 2):\n",
    "            print(my_cl.subtract())\n",
    "            break;\n",
    "        elif(ch == 3):\n",
    "            print(my_cl.multiply())\n",
    "            break;\n",
    "        elif(ch == 4):\n",
    "            print(my_cl.divide())\n",
    "            break;\n",
    "    \n",
    "    else:\n",
    "        print(\"Invalid Input\")"
   ]
  },
  {
   "cell_type": "markdown",
   "id": "496fb52e",
   "metadata": {},
   "source": [
    "#  Task 5"
   ]
  },
  {
   "cell_type": "code",
   "execution_count": null,
   "id": "c1502494",
   "metadata": {},
   "outputs": [],
   "source": []
  },
  {
   "cell_type": "code",
   "execution_count": null,
   "id": "65063197",
   "metadata": {},
   "outputs": [],
   "source": []
  },
  {
   "cell_type": "code",
   "execution_count": null,
   "id": "6d2f684d",
   "metadata": {},
   "outputs": [],
   "source": []
  },
  {
   "cell_type": "markdown",
   "id": "8450b466",
   "metadata": {},
   "source": [
    "#  Task 6"
   ]
  },
  {
   "cell_type": "code",
   "execution_count": 5,
   "id": "1496e73e",
   "metadata": {},
   "outputs": [
    {
     "name": "stdout",
     "output_type": "stream",
     "text": [
      "Enter Stringao\n"
     ]
    },
    {
     "data": {
      "text/plain": [
       "0"
      ]
     },
     "execution_count": 5,
     "metadata": {},
     "output_type": "execute_result"
    }
   ],
   "source": [
    "vowel=['a','e','i','o','u','A','E','I','O','U']\n",
    "count=0 \n",
    "X =input(\"Enter String\") \n",
    "if X in vowel:\n",
    "    count+=1\n",
    "count\n",
    "    "
   ]
  },
  {
   "cell_type": "code",
   "execution_count": 9,
   "id": "459e6391",
   "metadata": {},
   "outputs": [
    {
     "name": "stdout",
     "output_type": "stream",
     "text": [
      "12\n"
     ]
    }
   ],
   "source": [
    "vowel=['a','e','i','o','u','A','E','I','O','U']\n",
    "count=0 \n",
    "examble=\"iiii aaaa iiii kdkdkdkd\"\n",
    "for character in examble:\n",
    "    if character in vowel:\n",
    "        count+=1\n",
    "print(count)\n",
    "\n",
    "    "
   ]
  },
  {
   "cell_type": "code",
   "execution_count": null,
   "id": "2b4be1cd",
   "metadata": {},
   "outputs": [],
   "source": []
  },
  {
   "cell_type": "markdown",
   "id": "f9588e4c",
   "metadata": {},
   "source": [
    "#  Task 6"
   ]
  },
  {
   "cell_type": "markdown",
   "id": "4d486951",
   "metadata": {},
   "source": [
    "### To-do list: Create a program that allows the user to add, delete, and view items on a to-do list.\n"
   ]
  },
  {
   "cell_type": "code",
   "execution_count": null,
   "id": "c0b4f5cf",
   "metadata": {},
   "outputs": [],
   "source": []
  },
  {
   "cell_type": "code",
   "execution_count": null,
   "id": "04a70d32",
   "metadata": {},
   "outputs": [],
   "source": []
  },
  {
   "cell_type": "code",
   "execution_count": null,
   "id": "b53c9eee",
   "metadata": {},
   "outputs": [],
   "source": []
  }
 ],
 "metadata": {
  "kernelspec": {
   "display_name": "Python 3 (ipykernel)",
   "language": "python",
   "name": "python3"
  },
  "language_info": {
   "codemirror_mode": {
    "name": "ipython",
    "version": 3
   },
   "file_extension": ".py",
   "mimetype": "text/x-python",
   "name": "python",
   "nbconvert_exporter": "python",
   "pygments_lexer": "ipython3",
   "version": "3.9.13"
  }
 },
 "nbformat": 4,
 "nbformat_minor": 5
}
